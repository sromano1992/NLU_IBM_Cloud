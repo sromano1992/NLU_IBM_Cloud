{
 "cells": [
  {
   "cell_type": "markdown",
   "metadata": {},
   "source": [
    "# Dependencies installation"
   ]
  },
  {
   "cell_type": "code",
   "execution_count": 1,
   "metadata": {
    "scrolled": true
   },
   "outputs": [
    {
     "name": "stdout",
     "output_type": "stream",
     "text": [
      "Requirement already satisfied: numpy==1.16.4 in /opt/conda/envs/Python-3.8-main/lib/python3.8/site-packages (1.16.4)\n",
      "Requirement already satisfied: pandas==1.0.5 in /opt/conda/envs/Python-3.8-main/lib/python3.8/site-packages (1.0.5)\n",
      "Requirement already satisfied: pytz>=2017.2 in /opt/conda/envs/Python-3.8-main/lib/python3.8/site-packages (from pandas==1.0.5) (2021.1)\n",
      "Requirement already satisfied: numpy>=1.13.3 in /opt/conda/envs/Python-3.8-main/lib/python3.8/site-packages (from pandas==1.0.5) (1.16.4)\n",
      "Requirement already satisfied: python-dateutil>=2.6.1 in /opt/conda/envs/Python-3.8-main/lib/python3.8/site-packages (from pandas==1.0.5) (2.8.1)\n",
      "Requirement already satisfied: six>=1.5 in /opt/conda/envs/Python-3.8-main/lib/python3.8/site-packages (from python-dateutil>=2.6.1->pandas==1.0.5) (1.15.0)\n",
      "Requirement already satisfied: ibm-watson>=5.3.0 in /opt/conda/envs/Python-3.8-main/lib/python3.8/site-packages (5.3.0)\n",
      "Requirement already satisfied: ibm-cloud-sdk-core==3.*,>=3.3.6 in /opt/conda/envs/Python-3.8-main/lib/python3.8/site-packages (from ibm-watson>=5.3.0) (3.14.0)\n",
      "Requirement already satisfied: python-dateutil>=2.5.3 in /opt/conda/envs/Python-3.8-main/lib/python3.8/site-packages (from ibm-watson>=5.3.0) (2.8.1)\n",
      "Requirement already satisfied: websocket-client==1.1.0 in /opt/conda/envs/Python-3.8-main/lib/python3.8/site-packages (from ibm-watson>=5.3.0) (1.1.0)\n",
      "Requirement already satisfied: requests<3.0,>=2.0 in /opt/conda/envs/Python-3.8-main/lib/python3.8/site-packages (from ibm-watson>=5.3.0) (2.27.1)\n",
      "Collecting PyJWT<3.0.0,>=2.0.1\n",
      "  Downloading PyJWT-2.3.0-py3-none-any.whl (16 kB)\n",
      "Requirement already satisfied: urllib3<2.0.0,>=1.26.0 in /opt/conda/envs/Python-3.8-main/lib/python3.8/site-packages (from ibm-cloud-sdk-core==3.*,>=3.3.6->ibm-watson>=5.3.0) (1.26.6)\n",
      "Requirement already satisfied: six>=1.5 in /opt/conda/envs/Python-3.8-main/lib/python3.8/site-packages (from python-dateutil>=2.5.3->ibm-watson>=5.3.0) (1.15.0)\n",
      "Requirement already satisfied: charset-normalizer~=2.0.0 in /opt/conda/envs/Python-3.8-main/lib/python3.8/site-packages (from requests<3.0,>=2.0->ibm-watson>=5.3.0) (2.0.10)\n",
      "Requirement already satisfied: idna<4,>=2.5 in /opt/conda/envs/Python-3.8-main/lib/python3.8/site-packages (from requests<3.0,>=2.0->ibm-watson>=5.3.0) (2.8)\n",
      "Requirement already satisfied: certifi>=2017.4.17 in /opt/conda/envs/Python-3.8-main/lib/python3.8/site-packages (from requests<3.0,>=2.0->ibm-watson>=5.3.0) (2021.10.8)\n",
      "Installing collected packages: PyJWT\n",
      "  Attempting uninstall: PyJWT\n",
      "    Found existing installation: PyJWT 1.7.1\n",
      "    Uninstalling PyJWT-1.7.1:\n",
      "      Successfully uninstalled PyJWT-1.7.1\n",
      "Successfully installed PyJWT-2.3.0\n"
     ]
    }
   ],
   "source": [
    "!pip install --upgrade numpy==1.16.4\n",
    "!pip install --upgrade pandas==1.0.5\n",
    "!pip install --upgrade \"ibm-watson>=5.3.0\""
   ]
  },
  {
   "cell_type": "markdown",
   "metadata": {},
   "source": [
    "# Utilities"
   ]
  },
  {
   "cell_type": "code",
   "execution_count": 151,
   "metadata": {},
   "outputs": [],
   "source": [
    "import base64\n",
    "import pandas as pd\n",
    "from IPython.display import HTML\n",
    "\n",
    "def create_download_link( df, title = \"Download CSV file\", filename = \"data.csv\"):\n",
    "    csv = df.to_csv()\n",
    "    b64 = base64.b64encode(csv.encode())\n",
    "    payload = b64.decode()\n",
    "    html = '<a download=\"{filename}\" href=\"data:text/csv;base64,{payload}\" target=\"_blank\">{title}</a>'\n",
    "    html = html.format(payload=payload,title=title,filename=filename)\n",
    "    return HTML(html)"
   ]
  },
  {
   "cell_type": "markdown",
   "metadata": {},
   "source": [
    "# Your input here"
   ]
  },
  {
   "cell_type": "code",
   "execution_count": 66,
   "metadata": {},
   "outputs": [],
   "source": [
    "_WATSON_NLU_APIKEY = 'HzTEJ03k2tryP4RcSauPmFL_8Xzdqyya7Lr0qSGeQYbd'\n",
    "_WATSON_NLU_URL = 'https://api.eu-gb.natural-language-understanding.watson.cloud.ibm.com'    #more details here - https://cloud.ibm.com/apidocs/natural-language-understanding?code=python#endpoint-cloud\n",
    "                  \n",
    "keyword = ['delta']\n",
    "site = 'https://www.who.int/news/item/28-11-2021-update-on-omicron'    #website to analyze - english website"
   ]
  },
  {
   "cell_type": "markdown",
   "metadata": {},
   "source": [
    "# Watson NLU interaction here"
   ]
  },
  {
   "cell_type": "code",
   "execution_count": 155,
   "metadata": {},
   "outputs": [],
   "source": [
    "import json\n",
    "from ibm_watson import NaturalLanguageUnderstandingV1\n",
    "from ibm_cloud_sdk_core.authenticators import IAMAuthenticator\n",
    "from ibm_watson.natural_language_understanding_v1 import Features, SentimentOptions, EmotionOptions, MetadataOptions\n",
    "\n",
    "                                          \n",
    "authenticator = IAMAuthenticator(_WATSON_NLU_APIKEY)\n",
    "natural_language_understanding = NaturalLanguageUnderstandingV1(\n",
    "    version='2021-08-01',\n",
    "    authenticator=authenticator\n",
    ")\n",
    "\n",
    "natural_language_understanding.set_service_url(_WATSON_NLU_URL)\n",
    "\n",
    "from ibm_watson import ApiException\n",
    "try:\n",
    "    response = natural_language_understanding.analyze(\n",
    "        url=site,\n",
    "    features=Features(metadata=MetadataOptions(), sentiment=SentimentOptions(document=True, targets=keyword), emotion=EmotionOptions(document=True))).get_result()\n",
    "\n",
    "    out_string = json.dumps(response, indent=2)\n",
    "    # build CSV\n",
    "    # site, keyword, etc.\n",
    "\n",
    "    import pandas as pd\n",
    "    out_json = json.loads(out_string)    #dict\n",
    "    #print(out_string)\n",
    "except ApiException as ex:\n",
    "    print(\"Method failed with status code \" + str(ex.code) + \": \" + ex.message)\n",
    "\n",
    "\n"
   ]
  },
  {
   "cell_type": "markdown",
   "metadata": {},
   "source": [
    "# Generate csv and data download link"
   ]
  },
  {
   "cell_type": "code",
   "execution_count": 163,
   "metadata": {},
   "outputs": [
    {
     "data": {
      "text/html": [
       "<a download=\"https://www.who.int/news/item/28-11-2021-update-on-omicron_delta.csv\" href=\"data:text/csv;base64,c2l0ZSx0aXRsZSxwdWJsaWNhdGlvbl9kYXRlLGtleXdvcmQsc2VudGltZW50LnRhcmdldC50ZXh0LHNlbnRpbWVudC50YXJnZXQuc2NvcmUsc2VudGltZW50LnRhcmdldC5sYWJlbCxzZW50aW1lbnQuZG9jdW1lbnQuc2NvcmUsc2VudGltZW50LmRvY3VtZW50LmxhYmVsLGVtb3Rpb24uZG9jdW1lbnQuZW1vdGlvbi5zYWRuZXNzLGVtb3Rpb24uZG9jdW1lbnQuZW1vdGlvbi5qb3ksZW1vdGlvbi5kb2N1bWVudC5lbW90aW9uLmZlYXIsZW1vdGlvbi5kb2N1bWVudC5lbW90aW9uLmRpc2d1c3QsZW1vdGlvbi5kb2N1bWVudC5lbW90aW9uLmFuZ2VyCmh0dHBzOi8vd3d3Lndoby5pbnQvbmV3cy9pdGVtLzI4LTExLTIwMjEtdXBkYXRlLW9uLW9taWNyb24sVXBkYXRlIG9uIE9taWNyb24sMjAyMS0xMS0yOFQwMDowMDowMCxkZWx0YSxkZWx0YSwtMC41NzgxMDcsbmVnYXRpdmUsMC4zMjQwODUscG9zaXRpdmUsMC4xOTYzNjIsMC4xNzE5MywwLjEzMjY2MSwwLjA2NjcwNCwwLjA1NjU2Mwo=\" target=\"_blank\">Download CSV file</a>"
      ],
      "text/plain": [
       "<IPython.core.display.HTML object>"
      ]
     },
     "execution_count": 163,
     "metadata": {},
     "output_type": "execute_result"
    }
   ],
   "source": [
    "data = {'site':site, 'title': out_json['metadata']['title'], 'publication_date': out_json['metadata']['publication_date'], 'keyword': keyword,\n",
    "        'sentiment.target.text': out_json['sentiment']['targets'][0]['text'], 'sentiment.target.score': out_json['sentiment']['targets'][0]['score'], 'sentiment.target.label': out_json['sentiment']['targets'][0]['label'],\n",
    "        'sentiment.document.score': out_json['sentiment']['document']['score'], 'sentiment.document.label': out_json['sentiment']['document']['label'],\n",
    "        'emotion.document.emotion.sadness': out_json['emotion']['document']['emotion']['sadness'],'emotion.document.emotion.joy': out_json['emotion']['document']['emotion']['joy'],\n",
    "        'emotion.document.emotion.fear': out_json['emotion']['document']['emotion']['fear'],'emotion.document.emotion.disgust': out_json['emotion']['document']['emotion']['disgust'],\n",
    "        'emotion.document.emotion.anger': out_json['emotion']['document']['emotion']['anger']\n",
    "       }\n",
    "  \n",
    "# Creates pandas DataFrame.  \n",
    "df = pd.DataFrame(data)\n",
    "df.set_index('site', inplace=True)\n",
    "  \n",
    "# print the data  \n",
    "df\n",
    "\n",
    "# generate download link\n",
    "create_download_link(df, filename=site + '_' + keyword[0] + '.csv')"
   ]
  }
 ],
 "metadata": {
  "kernelspec": {
   "display_name": "Python 3.8",
   "language": "python",
   "name": "python3"
  },
  "language_info": {
   "codemirror_mode": {
    "name": "ipython",
    "version": 3
   },
   "file_extension": ".py",
   "mimetype": "text/x-python",
   "name": "python",
   "nbconvert_exporter": "python",
   "pygments_lexer": "ipython3",
   "version": "3.8.12"
  }
 },
 "nbformat": 4,
 "nbformat_minor": 1
}
